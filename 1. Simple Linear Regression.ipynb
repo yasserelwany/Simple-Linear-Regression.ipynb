{
 "cells": [
  {
   "cell_type": "markdown",
   "id": "4f19f18f",
   "metadata": {},
   "source": [
    "# Simple Linear Regression (Gapminder Project)\n",
    "\n",
    "In this project you are going to work with __gapminder__ dataset, which tracks economic and social indicators like population, life expectancy and the GDP per capita of countries over time. For more information about Gapminder, visit the this [link](https://www.gapminder.org/data/)\n",
    "\n",
    "This is a guided project, which I will guide you through to proceed with this small project. I believe this method will prepare you for your own future projects.\n",
    "\n",
    "In order to do this project, you may need to refer to this [tutorial](https://github.com/DrSaadLa/PythonTuts/blob/main/ML%20with%20Python/02.01.%20Linear%20Regression%20with%20Python%20(Part%2001)%20Solution.ipynb)"
   ]
  },
  {
   "cell_type": "markdown",
   "id": "beb6311b",
   "metadata": {},
   "source": [
    "### Import Necessary Modules\n",
    "1. import pandas\n",
    "2. import numpy \n",
    "3. import seaborn\n",
    "4. import matplotlib.pyplot"
   ]
  },
  {
   "cell_type": "code",
   "execution_count": 2,
   "id": "e7069e6b",
   "metadata": {},
   "outputs": [],
   "source": []
  },
  {
   "cell_type": "markdown",
   "id": "a4f78b6e",
   "metadata": {},
   "source": [
    "### Import the dataset\n",
    "\n",
    "the dataset can be downloaded from [here](https://raw.githubusercontent.com/DrSaadLa/PythonTuts/main/Data/gapminder.csv). \n"
   ]
  },
  {
   "cell_type": "code",
   "execution_count": 4,
   "id": "9050107b",
   "metadata": {},
   "outputs": [],
   "source": [
    "# Here is the url provided for you\n",
    "url = \"https://raw.githubusercontent.com/DrSaadLa/PythonTuts/main/Data/gapminder.csv\""
   ]
  },
  {
   "cell_type": "code",
   "execution_count": 5,
   "id": "a603628c",
   "metadata": {},
   "outputs": [],
   "source": [
    "# use pd.read_csv() to import the data\n"
   ]
  },
  {
   "cell_type": "code",
   "execution_count": null,
   "id": "a434dce8",
   "metadata": {},
   "outputs": [],
   "source": [
    "# Check the first few obs\n"
   ]
  },
  {
   "cell_type": "code",
   "execution_count": null,
   "id": "3033f465",
   "metadata": {},
   "outputs": [],
   "source": [
    "# Check the last few obs\n"
   ]
  },
  {
   "cell_type": "code",
   "execution_count": null,
   "id": "a0eea341",
   "metadata": {},
   "outputs": [],
   "source": [
    "# check the data information\n"
   ]
  },
  {
   "cell_type": "code",
   "execution_count": null,
   "id": "2e411e19",
   "metadata": {},
   "outputs": [],
   "source": [
    "# Run desriptive statistics\n"
   ]
  },
  {
   "cell_type": "markdown",
   "id": "a4d2388a",
   "metadata": {},
   "source": [
    "## Select Target and Feature Variable\n",
    "\n",
    "This is a simple linear regression, so we are going to use only two variables. Suppose you wish to predict life expectancy in a given country using one variable such as GDP, fertility rate, or population. \n",
    "\n",
    "Before selecting the condidate input variable, we will plot a heatmap on the correlation matrix of dataset, then we select to highly correlated variable with the target, which will be __life__\n",
    "\n",
    "### This section is done for you. "
   ]
  },
  {
   "cell_type": "code",
   "execution_count": 6,
   "id": "bf44489f",
   "metadata": {},
   "outputs": [
    {
     "data": {
      "text/plain": [
       "<AxesSubplot:>"
      ]
     },
     "execution_count": 6,
     "metadata": {},
     "output_type": "execute_result"
    },
    {
     "data": {
      "image/png": "[encoded data removed]",
      "text/plain": [
       "<Figure size 720x576 with 2 Axes>"
      ]
     },
     "metadata": {},
     "output_type": "display_data"
    }
   ],
   "source": [
    "# Setting the figure size \n",
    "sns.set(rc={'figure.figsize':(10,8)})\n",
    "sns.heatmap(df.corr(), cmap='RdYlBu', square=True)"
   ]
  },
  {
   "cell_type": "markdown",
   "id": "a4791aad",
   "metadata": {},
   "source": [
    "From the headmap, the highly negatively correlated variable is __fertility__, which the one you are going to use to build your model. So:\n",
    "\n",
    "Target is: __life__\n",
    "\n",
    "Input is: __fertility__"
   ]
  },
  {
   "cell_type": "code",
   "execution_count": null,
   "id": "185ba741",
   "metadata": {},
   "outputs": [],
   "source": [
    "# Rename life as y\n"
   ]
  },
  {
   "cell_type": "code",
   "execution_count": null,
   "id": "8c123580",
   "metadata": {},
   "outputs": [],
   "source": [
    "# Rename the input variable as X\n"
   ]
  },
  {
   "cell_type": "code",
   "execution_count": null,
   "id": "334d3398",
   "metadata": {},
   "outputs": [],
   "source": [
    "# Check the shape of y\n",
    "print(\"The shape of the target variable is :\" )\n"
   ]
  },
  {
   "cell_type": "code",
   "execution_count": null,
   "id": "2cf4d6df",
   "metadata": {},
   "outputs": [],
   "source": [
    "# Check the shape of X\n",
    "print(\"The shape of the input variable is :\" )"
   ]
  },
  {
   "cell_type": "markdown",
   "id": "86c71285",
   "metadata": {},
   "source": [
    "As we have seen in the lecture, we have to reshape a 1D array into a 2D array using reshape() function "
   ]
  },
  {
   "cell_type": "code",
   "execution_count": null,
   "id": "8df228a0",
   "metadata": {},
   "outputs": [],
   "source": [
    "# reshape the target variable y\n"
   ]
  },
  {
   "cell_type": "code",
   "execution_count": null,
   "id": "cc7a55b2",
   "metadata": {},
   "outputs": [],
   "source": [
    "# reshape the input variable X\n"
   ]
  },
  {
   "cell_type": "code",
   "execution_count": null,
   "id": "1c4195cf",
   "metadata": {},
   "outputs": [],
   "source": [
    "# print the new shape y\n"
   ]
  },
  {
   "cell_type": "code",
   "execution_count": null,
   "id": "53863bd8",
   "metadata": {},
   "outputs": [],
   "source": [
    "# print the new shape of X\n"
   ]
  },
  {
   "cell_type": "markdown",
   "id": "8cf526ff",
   "metadata": {},
   "source": [
    "### Plotting\n",
    "\n",
    "Plot a scatter plot of the variables life and fertility."
   ]
  },
  {
   "cell_type": "code",
   "execution_count": null,
   "id": "ef8b0569",
   "metadata": {},
   "outputs": [],
   "source": [
    "# plot scatter plot \n"
   ]
  },
  {
   "cell_type": "markdown",
   "id": "6d468ca0",
   "metadata": {},
   "source": [
    "Ovely a fitted line on the plot using `lmplot` from seaborn package. "
   ]
  },
  {
   "cell_type": "code",
   "execution_count": null,
   "id": "3736ae41",
   "metadata": {},
   "outputs": [],
   "source": [
    "# plot linear regression plot.\n"
   ]
  },
  {
   "cell_type": "markdown",
   "id": "b3b04475",
   "metadata": {},
   "source": [
    "### Building a  Linear Regression Model\n",
    "\n",
    "1. Import LinearRegression from sklearn\n",
    "2. Create an lm object\n",
    "3. Fit the model\n",
    "4. Print the model parameters\n",
    "5. Print the score of the model\n",
    "6. predict on the same data"
   ]
  },
  {
   "cell_type": "code",
   "execution_count": null,
   "id": "e7bc2800",
   "metadata": {},
   "outputs": [],
   "source": [
    "# Import LinearRegression() from sklearn.linear_model\n"
   ]
  },
  {
   "cell_type": "code",
   "execution_count": null,
   "id": "87ee6418",
   "metadata": {},
   "outputs": [],
   "source": [
    "# Create lm object\n"
   ]
  },
  {
   "cell_type": "code",
   "execution_count": null,
   "id": "2490ee49",
   "metadata": {},
   "outputs": [],
   "source": [
    "# fit the linear model\n"
   ]
  },
  {
   "cell_type": "code",
   "execution_count": null,
   "id": "9bcbc4c9",
   "metadata": {},
   "outputs": [],
   "source": [
    "# Print the intercept \n",
    "print(\"The model intercept is: \")"
   ]
  },
  {
   "cell_type": "code",
   "execution_count": null,
   "id": "567d40e2",
   "metadata": {},
   "outputs": [],
   "source": [
    "# Print the coef \n",
    "print(\"The model parameter is: \")"
   ]
  },
  {
   "cell_type": "code",
   "execution_count": null,
   "id": "7872d528",
   "metadata": {},
   "outputs": [],
   "source": [
    "# Print the Godness-of-fit metric \n",
    "print(\"The coefficient of determination is: \")"
   ]
  },
  {
   "cell_type": "code",
   "execution_count": null,
   "id": "ab3ca2ac",
   "metadata": {},
   "outputs": [],
   "source": [
    "# Predict on the data\n"
   ]
  },
  {
   "cell_type": "code",
   "execution_count": null,
   "id": "4a6dd776",
   "metadata": {},
   "outputs": [],
   "source": [
    "# Plot the fitted line on top of the scatter plot\n"
   ]
  }
 ],
 "metadata": {
  "kernelspec": {
   "display_name": "Python 3",
   "language": "python",
   "name": "python3"
  },
  "language_info": {
   "codemirror_mode": {
    "name": "ipython",
    "version": 3
   },
   "file_extension": ".py",
   "mimetype": "text/x-python",
   "name": "python",
   "nbconvert_exporter": "python",
   "pygments_lexer": "ipython3",
   "version": "3.8.2"
  }
 },
 "nbformat": 4,
 "nbformat_minor": 5
}
